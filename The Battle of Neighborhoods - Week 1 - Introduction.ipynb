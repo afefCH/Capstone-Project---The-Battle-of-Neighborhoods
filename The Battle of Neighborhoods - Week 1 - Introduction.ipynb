{
 "cells": [
  {
   "cell_type": "markdown",
   "metadata": {},
   "source": [
    "# Capstone Project - The Battle of Neighborhoods"
   ]
  },
  {
   "cell_type": "markdown",
   "metadata": {},
   "source": [
    "## Introduction & Business Problem"
   ]
  },
  {
   "cell_type": "markdown",
   "metadata": {},
   "source": [
    "### Background"
   ]
  },
  {
   "cell_type": "markdown",
   "metadata": {},
   "source": [
    "Paris is the capital and largest city of France. has 2 million inhabitants and is the fifth of the most populated cities in the world. the city is one of the most influential centers worldwide, as well as a very strong cultural, political and economic one."
   ]
  },
  {
   "cell_type": "markdown",
   "metadata": {},
   "source": [
    "Paris is a city which enjoys an international influence not only from a tourist point of view but also from a professional point of view.\n",
    "This city is home to many business districts, each with their own particularities. Whether ultra-modern or more historic, the Parisian business districts form a veritable hive that comes alive every day.\n",
    "That's why, to start a bussniss in Paris shuch as opening a restaurent, we should search and analyse the location, to have our place in 12.000 restaurants and to be famous competitors."
   ]
  },
  {
   "cell_type": "markdown",
   "metadata": {},
   "source": [
    "### Project Idea"
   ]
  },
  {
   "cell_type": "markdown",
   "metadata": {},
   "source": [
    ">In this project, we will focus on identifing :  \n",
    "* the restaurant categories by venues  \n",
    "* the restaurant categories by customers\n",
    "* venues by inhabitants nationalities\n",
    "    \n",
    "In order to pick the best districts - Arrondissements - among the 20 in Paris city to open new restaurant \"multi nationalities fast food restaurant\"."
   ]
  },
  {
   "cell_type": "markdown",
   "metadata": {},
   "source": [
    "### Target Audience"
   ]
  },
  {
   "cell_type": "markdown",
   "metadata": {},
   "source": [
    "This work interest anyone want to begin a business in Paris and open a restaurant."
   ]
  },
  {
   "cell_type": "code",
   "execution_count": null,
   "metadata": {},
   "outputs": [],
   "source": []
  }
 ],
 "metadata": {
  "kernelspec": {
   "display_name": "Python 3",
   "language": "python",
   "name": "python3"
  },
  "language_info": {
   "codemirror_mode": {
    "name": "ipython",
    "version": 3
   },
   "file_extension": ".py",
   "mimetype": "text/x-python",
   "name": "python",
   "nbconvert_exporter": "python",
   "pygments_lexer": "ipython3",
   "version": "3.7.1"
  }
 },
 "nbformat": 4,
 "nbformat_minor": 2
}
