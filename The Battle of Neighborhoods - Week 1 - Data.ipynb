{
 "cells": [
  {
   "cell_type": "markdown",
   "metadata": {},
   "source": [
    "# Capstone Project - The Battle of Neighborhoods"
   ]
  },
  {
   "cell_type": "markdown",
   "metadata": {},
   "source": [
    "## Data description"
   ]
  },
  {
   "cell_type": "markdown",
   "metadata": {},
   "source": [
    "In this section, we will present the different data will be used to finalize our project.\n",
    "we will besed on the below datasets to analyse Paris city."
   ]
  },
  {
   "cell_type": "markdown",
   "metadata": {},
   "source": [
    "### City's boroughs\n",
    "\n",
    "Paris is composed of 20 boroughs, each one is distinguished by it's number. The URL below provide the those arrondissements and there details:\n",
    "\n",
    "https://opendata.paris.fr/explore/dataset/arrondissements/table/?dataChart\n",
    "\n",
    "Tt's downloadable also in https://data.opendatasoft.com/explore/dataset/arrondissements%40parisdata/export/\n",
    "To facilate the export of data, the dataset is imported in github repository : https://raw.githubusercontent.com/AR-data-science/Coursera_Capstone/master/Arrondissements_.csv"
   ]
  },
  {
   "cell_type": "markdown",
   "metadata": {},
   "source": [
    "### City's neighborhoods\n",
    "\n",
    "To be more precise, we should get more details of neighborhoods, so it's necessary to get the neighborhoods that exist in each borough as well as the the latitude and logitude coordinates of each neighborhood. Threrefor, we will be using:\n",
    "\n",
    "List of neighborhoods by boroughs in Paris city: \n",
    "https://opendata.paris.fr/explore/dataset/arrondissements/table/\n",
    "It is important also to know the specifications of administrative neighborhoods by the dataset preseneted below:\n",
    "https://www.data.gouv.fr/fr/datasets/quartiers-administratifs/"
   ]
  },
  {
   "cell_type": "markdown",
   "metadata": {},
   "source": [
    "### City's restaurant\n",
    "\n",
    "It's essential to know our future competitors, their locations and specifications.\n",
    "So, we will get the next dataset:\n",
    "https://opendata.paris.fr/explore/dataset/restaurants-casvp/table/?disjunctive.code&disjunctive.nom_restaurant&disjunctive.type"
   ]
  },
  {
   "cell_type": "code",
   "execution_count": null,
   "metadata": {},
   "outputs": [],
   "source": []
  }
 ],
 "metadata": {
  "kernelspec": {
   "display_name": "Python 3",
   "language": "python",
   "name": "python3"
  },
  "language_info": {
   "codemirror_mode": {
    "name": "ipython",
    "version": 3
   },
   "file_extension": ".py",
   "mimetype": "text/x-python",
   "name": "python",
   "nbconvert_exporter": "python",
   "pygments_lexer": "ipython3",
   "version": "3.7.1"
  }
 },
 "nbformat": 4,
 "nbformat_minor": 2
}
